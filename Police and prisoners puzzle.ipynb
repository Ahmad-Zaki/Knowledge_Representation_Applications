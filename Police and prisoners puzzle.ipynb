{
 "cells": [
  {
   "cell_type": "markdown",
   "metadata": {},
   "source": [
    "# Police and prisoners puzzle"
   ]
  },
  {
   "cell_type": "markdown",
   "metadata": {},
   "source": [
    " - This Puzzle is known by many names: The gaurds and prisoners problem, the missionaries and cannibals problem, or jealous husbands problem. it's a classic river-crossing logic puzzle and a well-known toy problem in artificial intelligence, where it was used by Saul Amarel as an example of problem representation.\n",
    " - In the gaurds and prisoners problem, three gaurds and three prisoners must cross a river using a boat which can carry at most two people, under the constraint that, for both banks, if there are gaurds present on the bank, they cannot be outnumbered by prisoners (if they were, the prisoners would tackle the gaurds and escape). The boat cannot cross the river by itself with no people on board. And, in some variations, one of the prisoners has only one arm and cannot row, but that is not the case here.\n",
    " - We'll define a puzzle state by the number of gaurds and prisoners on each side + the location of the boat. The left side is dented by \"False\", and the right side is denoted by \"True\".\n",
    " - Each state we reach, we'll store it in a memory variable to avoid backward progress, where infinite loops may occur.\n",
    " - at each state, we'll try all possible moves until we find a state that doesn't violate the rules and isn't located at the memory\n",
    " - the puzzle is simple; there are no moves that would lead to a dead end."
   ]
  },
  {
   "cell_type": "code",
   "execution_count": 13,
   "metadata": {},
   "outputs": [],
   "source": [
    "def Puzzle():\n",
    "    memory = []\n",
    "    #Initial state: left side = False, right side = True\n",
    "    memory.append({False:{\"police\":3,\"prisoners\":3},\n",
    "                   True:{\"police\":0,\"prisoners\":0},\n",
    "                   \"boat\":False\n",
    "                 })\n",
    "    #Final state:\n",
    "    end = {False:{\"police\":0, \"prisoners\":0},\n",
    "           True:{\"police\":3, \"prisoners\":3},\n",
    "           \"boat\":True\n",
    "          }\n",
    "    \n",
    "    while memory[-1] != end:\n",
    "        if memory[-1][\"boat\"]:\n",
    "            #from right to left: either one or two may ride the boat\n",
    "            moves= [(0,1),(1,0),(1,1),(0,2),(2,0)]\n",
    "        else:\n",
    "            #from left to right: only two can ride the boat.\n",
    "            moves=[(1,1),(0,2),(2,0)]\n",
    "            \n",
    "        for (police,prisoner) in moves:\n",
    "            new_state = switch_state(memory[-1],police,prisoner)\n",
    "            if new_state not in memory: \n",
    "                memory.append(new_state)\n",
    "                break  \n",
    "    return memory\n",
    "    \n",
    "        "
   ]
  },
  {
   "cell_type": "code",
   "execution_count": 14,
   "metadata": {},
   "outputs": [],
   "source": [
    "def switch_state(current_state,police,prisoner):\n",
    "    side = current_state[\"boat\"]\n",
    "    if (police > current_state[side][\"police\"] ) or (prisoner > current_state[side][\"prisoners\"]):\n",
    "        #Invalid move. return the current state and try another move.\n",
    "        return current_state\n",
    "    \n",
    "    next_state ={side:{\"police\":current_state[side][\"police\"] - police,\n",
    "                       \"prisoners\":current_state[side][\"prisoners\"] - prisoner},\n",
    "                 not side:{\"police\":current_state[not side][\"police\"] + police,\n",
    "                           \"prisoners\":current_state[not side][\"prisoners\"] + prisoner},\n",
    "                 \"boat\": not side\n",
    "                }\n",
    "    \n",
    "    #If the move made the number of prisoners more than the number of police in any side:\n",
    "    #return the current state and try another move\n",
    "    if (next_state[side][\"prisoners\"] > next_state[side][\"police\"]) and (next_state[side][\"police\"] !=0):\n",
    "        return current_state\n",
    "    elif (next_state[not side][\"prisoners\"] > next_state[not side][\"police\"]) and (next_state[not side][\"police\"] !=0): \n",
    "        return current_state\n",
    "\n",
    "    else:\n",
    "        return next_state\n",
    "    "
   ]
  },
  {
   "cell_type": "code",
   "execution_count": 15,
   "metadata": {},
   "outputs": [
    {
     "name": "stdout",
     "output_type": "stream",
     "text": [
      "move #0= left side: {'police': 3, 'prisoners': 3}, right side: {'police': 0, 'prisoners': 0}\n",
      "move #1= left side: {'police': 2, 'prisoners': 2}, right side: {'police': 1, 'prisoners': 1}\n",
      "move #2= left side: {'police': 3, 'prisoners': 2}, right side: {'police': 0, 'prisoners': 1}\n",
      "move #3= left side: {'police': 3, 'prisoners': 0}, right side: {'police': 0, 'prisoners': 3}\n",
      "move #4= left side: {'police': 3, 'prisoners': 1}, right side: {'police': 0, 'prisoners': 2}\n",
      "move #5= left side: {'police': 1, 'prisoners': 1}, right side: {'police': 2, 'prisoners': 2}\n",
      "move #6= left side: {'police': 2, 'prisoners': 2}, right side: {'police': 1, 'prisoners': 1}\n",
      "move #7= left side: {'police': 0, 'prisoners': 2}, right side: {'police': 3, 'prisoners': 1}\n",
      "move #8= left side: {'police': 0, 'prisoners': 3}, right side: {'police': 3, 'prisoners': 0}\n",
      "move #9= left side: {'police': 0, 'prisoners': 1}, right side: {'police': 3, 'prisoners': 2}\n",
      "move #10= left side: {'police': 0, 'prisoners': 2}, right side: {'police': 3, 'prisoners': 1}\n",
      "move #11= left side: {'police': 0, 'prisoners': 0}, right side: {'police': 3, 'prisoners': 3}\n"
     ]
    }
   ],
   "source": [
    "solution = Puzzle()\n",
    "for i in solution:\n",
    "    print(f\"move #{solution.index(i)}= left side: {i[False]}, right side: {i[True]}\")"
   ]
  }
 ],
 "metadata": {
  "kernelspec": {
   "display_name": "Python 3",
   "language": "python",
   "name": "python3"
  },
  "language_info": {
   "codemirror_mode": {
    "name": "ipython",
    "version": 3
   },
   "file_extension": ".py",
   "mimetype": "text/x-python",
   "name": "python",
   "nbconvert_exporter": "python",
   "pygments_lexer": "ipython3",
   "version": "3.8.5"
  }
 },
 "nbformat": 4,
 "nbformat_minor": 4
}
