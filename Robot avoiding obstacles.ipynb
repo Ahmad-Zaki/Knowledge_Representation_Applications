{
 "cells": [
  {
   "cell_type": "markdown",
   "metadata": {},
   "source": [
    "### programing a virtual robot to avoide Obstacles using production Rules\n",
    "\n",
    " - This is a simple application of knowledge representation using production rules.\n",
    " - The goal is to move a robot from the bottem left of a board filled randomly with obstacles to the top right of the board.\n",
    " - We tried to use simple rules and avoid complex logic, therefore the set of moves are limited.\n",
    " - The robot may get stuck at a dead end as a result.\n",
    " - There is a visualisation function at the end to see the robot moving on the board."
   ]
  },
  {
   "cell_type": "code",
   "execution_count": 1,
   "metadata": {},
   "outputs": [],
   "source": [
    "import numpy as np\n",
    "from time import sleep\n",
    "from IPython.display import clear_output\n",
    "import matplotlib.pyplot as plt"
   ]
  },
  {
   "cell_type": "code",
   "execution_count": 2,
   "metadata": {},
   "outputs": [],
   "source": [
    "#Generate obstacles locations:\n",
    "def gen_obstacles(board_length, num):\n",
    "    L = board_length\n",
    "    assert num< L**2, \"Too many obstacles!\"\n",
    "    \n",
    "    obs_h = np.random.choice(range(1,L+1),size=num)\n",
    "    obs_v = np.random.choice(range(1,L+1),size=num)\n",
    "    obstacles = {*zip(obs_h,obs_v)}\n",
    "\n",
    "    #Remove obstacles that appear at start or goal:\n",
    "    if (1, 1) in obstacles: obstacles.remove((1, 1))\n",
    "    if (L, L) in obstacles: obstacles.remove((L, L))\n",
    "    \n",
    "    return obstacles"
   ]
  },
  {
   "cell_type": "code",
   "execution_count": 3,
   "metadata": {},
   "outputs": [],
   "source": [
    "#Production Rules:\n",
    "def decide(r_h, r_v, board_length, obstacles):\n",
    "    L = board_length\n",
    "    #If goal is reached:\n",
    "    if (r_h,r_v) == (L, L): return \"goal\"\n",
    "    \n",
    "    #Moving in the middle of the board:\n",
    "    #If both up and right are available, choose a random move:\n",
    "    if r_h < L and r_v < L and (r_h+1,r_v) not in obstacles and (r_h,r_v+1) not in obstacles:\n",
    "        return np.random.choice([\"right\",\"up\"])\n",
    "    \n",
    "    #Moving right:\n",
    "    if r_h < L and (r_h+1,r_v) not in obstacles: return \"right\"\n",
    "    \n",
    "    #moving up:\n",
    "    if r_v < L and (r_h,r_v+1) not in obstacles: return \"up\"\n",
    "    \n",
    "    #If rebot reached right edge of the board and moving up is not possible, go left then up\n",
    "    if (r_h == L and (r_h,r_v+1) in obstacles): return \"left then up\"\n",
    "    \n",
    "    #If rebot reached top edge of the board and moving right is not possible, go down then right\n",
    "    if r_v == L and (r_h+1,r_v) in obstacles: return \"down then right\"\n",
    "    else: return \"Stuck!\"\n",
    "    "
   ]
  },
  {
   "cell_type": "code",
   "execution_count": 4,
   "metadata": {},
   "outputs": [],
   "source": [
    "#Control Unit:\n",
    "def control(r_h, r_v, decision):\n",
    "    if decision == \"right\": return r_h+1, r_v\n",
    "    if decision == \"up\" : return r_h, r_v+1\n",
    "    if decision == \"left then up\": return r_h-1, r_v+1\n",
    "    if decision == \"down then right\": return r_h+1, r_v-1\n",
    "    if decision == \"goal\" or decision == \"Stuck!\": return \"end\", \"end\""
   ]
  },
  {
   "cell_type": "code",
   "execution_count": 5,
   "metadata": {},
   "outputs": [],
   "source": [
    "def robot(r_h, r_v, L, obstacles):\n",
    "    moves_history = [(r_h,r_v)] #Store all the moves the robot makes.\n",
    "    decision = \"start\"\n",
    "    while control(r_h, r_v, decision) != (\"end\",\"end\"):\n",
    "        decision = decide(r_h, r_v, L, obstacles)\n",
    "        r_h, r_v = control(r_h, r_v, decision)\n",
    "        moves_history.append((r_h,r_v))\n",
    "    return moves_history"
   ]
  },
  {
   "cell_type": "code",
   "execution_count": 6,
   "metadata": {},
   "outputs": [],
   "source": [
    "def visualize(steps, board_length, obstacles): \n",
    "    L = board_length\n",
    "    board = np.full((L+1,L+1),255)\n",
    "    board[L,L] = 180\n",
    "    for obs in obstacles:\n",
    "        board[obs] = 0\n",
    "        \n",
    "    for step in steps[:-1]:\n",
    "        brd = board.copy()\n",
    "        brd[step] = 100\n",
    "        clear_output()\n",
    "        plt.imshow(np.rot90(brd[1:,1:]))\n",
    "        plt.gray()\n",
    "        plt.show()\n",
    "        sleep(0.8)\n",
    "        "
   ]
  },
  {
   "cell_type": "code",
   "execution_count": 24,
   "metadata": {},
   "outputs": [
    {
     "data": {
      "image/png": "[encoded data removed]",
      "text/plain": [
       "<Figure size 432x288 with 1 Axes>"
      ]
     },
     "metadata": {
      "needs_background": "light"
     },
     "output_type": "display_data"
    }
   ],
   "source": [
    "board_length = 10 #10x10 board\n",
    "num_obstacles = 13 #number of obstacles\n",
    "\n",
    "#Starting position:\n",
    "r_h, r_v = (1,1) #Robot position\n",
    "#Ending position:\n",
    "g_h,g_v = (board_length,board_length) # Goal position(Top right)\n",
    "\n",
    "#Generate and see the obstacles on the board:\n",
    "obstacles = gen_obstacles(board_length, num_obstacles)\n",
    "visualize([(r_h,r_v),(g_h,g_v)],board_length,obstacles)"
   ]
  },
  {
   "cell_type": "code",
   "execution_count": 25,
   "metadata": {},
   "outputs": [
    {
     "name": "stdout",
     "output_type": "stream",
     "text": [
      "[(1, 1), (2, 1), (3, 1), (4, 1), (5, 1), (5, 2), (6, 2), (7, 2), (7, 3), (8, 3), (8, 4), (9, 4), (9, 5), (10, 5), (10, 6), (10, 7), (10, 8), (10, 9), (10, 10), ('end', 'end')]\n"
     ]
    }
   ],
   "source": [
    "solution= robot(r_h, r_v, board_length, obstacles)\n",
    "#Print the coordinates of steps taken by the robot {(1,1) is the bottom left square.}\n",
    "print(solution)"
   ]
  },
  {
   "cell_type": "code",
   "execution_count": 27,
   "metadata": {},
   "outputs": [
    {
     "data": {
      "image/png": "[encoded data removed]",
      "text/plain": [
       "<Figure size 432x288 with 1 Axes>"
      ]
     },
     "metadata": {
      "needs_background": "light"
     },
     "output_type": "display_data"
    }
   ],
   "source": [
    "visualize(solution, board_length,obstacles)"
   ]
  }
 ],
 "metadata": {
  "kernelspec": {
   "display_name": "Python 3",
   "language": "python",
   "name": "python3"
  },
  "language_info": {
   "codemirror_mode": {
    "name": "ipython",
    "version": 3
   },
   "file_extension": ".py",
   "mimetype": "text/x-python",
   "name": "python",
   "nbconvert_exporter": "python",
   "pygments_lexer": "ipython3",
   "version": "3.8.5"
  }
 },
 "nbformat": 4,
 "nbformat_minor": 4
}
